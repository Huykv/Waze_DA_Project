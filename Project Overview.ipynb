{
 "cells": [
  {
   "cell_type": "markdown",
   "metadata": {},
   "source": [
    "## **Background on the Waze scenario**\n",
    "Waze’s free navigation app makes it easier for drivers around the world to get to where they want to go. Waze’s community of map editors, beta testers, translators, partners, and users helps make each drive better and safer. Waze partners with cities, transportation authorities, broadcasters, businesses, and first responders to help as many people as possible travel more efficiently and safely. \n",
    "\n",
    "You’ll collaborate with your Waze teammates to analyze and interpret data, generate valuable insights, and help leadership make informed business decisions. Your team is about to start a new project to help prevent user churn on the Waze app. Churn quantifies the number of users who have uninstalled the Waze app or stopped using the app. This project focuses on monthly user churn. \n",
    "\n",
    "This project is part of a larger effort at Waze to increase growth. Typically, high retention rates indicate satisfied users who repeatedly use the Waze app over time. Developing a churn prediction model will help prevent churn, improve user retention, and grow Waze’s business. An accurate model can also help identify specific factors that contribute to churn and answer questions such as: \n",
    "\n",
    "* Who are the users most likely to churn?\n",
    "\n",
    "* Why do users churn? \n",
    "\n",
    "* When do users churn? \n",
    "\n",
    "For example, if Waze can identify a segment of users who are at high risk of churning, Waze can proactively engage these users with special offers to try and retain them. Otherwise, Waze may lose these users without knowing why. \n",
    "\n",
    "Your insights will help Waze leadership optimize the company’s retention strategy, enhance user experience, and make data-driven decisions about product development."
   ]
  },
  {
   "cell_type": "markdown",
   "metadata": {},
   "source": [
    "## **Team members at Waze**\n",
    "\n",
    "**Data team roles**\n",
    "\n",
    "* Harriet Hadzic - Director of Data Analysis \n",
    "\n",
    "* May Santner - Data Analysis Manager \n",
    "\n",
    "* Chidi Ga - Senior Data Analyst \n",
    "\n",
    "* Sylvester Esperanza - Senior Project Manager \n",
    "\n",
    "Data team members have technical experience with data analysis and data science. However, you should always be sure to keep summaries and messages to these team members concise and to the point. \n",
    "\n",
    "**Cross-functional team members**\n",
    "\n",
    "* Emrick Larson - Finance and Administration Department Head \n",
    "\n",
    "* Ursula Sayo - Operations Manager \n",
    "\n",
    "Your Waze team includes several managers overseeing operations. It is important to adapt your communication to their roles since their responsibilities are less technical."
   ]
  }
 ],
 "metadata": {
  "language_info": {
   "name": "python"
  }
 },
 "nbformat": 4,
 "nbformat_minor": 2
}
